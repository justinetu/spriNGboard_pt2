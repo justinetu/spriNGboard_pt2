{
 "cells": [
  {
   "cell_type": "markdown",
   "id": "645df3b3-cc9c-4cd4-9bb6-dabc888a2958",
   "metadata": {},
   "source": [
    "# Exercise 02: Spectral Inversion\n",
    "\n",
    "If you completed Exercise 01, this should only take a few minutes."
   ]
  },
  {
   "cell_type": "markdown",
   "id": "74504a11-61d0-41e0-bb98-b271b3616224",
   "metadata": {},
   "source": [
    "Let's install some packages:"
   ]
  },
  {
   "cell_type": "code",
   "execution_count": null,
   "id": "cb3992c6-b89c-4559-9b6e-4262f7c7f725",
   "metadata": {
    "scrolled": true
   },
   "outputs": [],
   "source": [
    "import sys\n",
    "!{sys.executable} -m pip install -U pip\n",
    "!{sys.executable} -m pip install -U scikit-learn numpy matplotlib ipywidgets ipympl"
   ]
  },
  {
   "cell_type": "markdown",
   "id": "ad2ad779-e3a7-41de-b1b2-a35e1b9fd7bf",
   "metadata": {},
   "source": [
    "and import some stuff:"
   ]
  },
  {
   "cell_type": "code",
   "execution_count": null,
   "id": "181d7b3c-ef0b-4d78-962e-e70c42e42d46",
   "metadata": {},
   "outputs": [],
   "source": [
    "%matplotlib widget\n",
    "\n",
    "import ipywidgets as widgets\n",
    "import numpy as np\n",
    "import scipy as sp\n",
    "import sklearn\n",
    "import matplotlib.pyplot as plt"
   ]
  },
  {
   "cell_type": "markdown",
   "id": "c43ecb3c-4726-4dcb-bb7d-079e7efb81bc",
   "metadata": {},
   "source": [
    "The following code creates a plot widget below.  Feel free to dig into it if you want."
   ]
  },
  {
   "cell_type": "code",
   "execution_count": null,
   "id": "9233d851-441e-4153-905e-df387d23290d",
   "metadata": {
    "scrolled": true
   },
   "outputs": [],
   "source": [
    "def create_plot():\n",
    "    \n",
    "    def generate_data (tone_freq_in__Hz, sample_rate__Hz):\n",
    "        res = sklearn.utils.Bunch()\n",
    "        \n",
    "        res.tone_freq_in__Hz = tone_freq_in__Hz\n",
    "        res.sample_rate__Hz  = sample_rate__Hz\n",
    "        \n",
    "        tone_freq_out__Hz = res.tone_freq_in__Hz\n",
    "        while tone_freq_out__Hz <= -sample_rate__Hz/2:\n",
    "            tone_freq_out__Hz += sample_rate__Hz\n",
    "        while tone_freq_out__Hz > +sample_rate__Hz/2:\n",
    "            tone_freq_out__Hz -= sample_rate__Hz\n",
    "\n",
    "        res.tone_freq_out__Hz = tone_freq_out__Hz\n",
    "        \n",
    "        res.sample_period__sec = 1.0/res.sample_rate__Hz;\n",
    "    \n",
    "        res.t_lo__sec =  0.0;\n",
    "        res.t_hi__sec =  1.0;\n",
    "        \n",
    "        res.ts_tone__sec = np.linspace(res.t_lo__sec, res.t_hi__sec, 1000)\n",
    "        res.ts_samp__sec = np.arange(res.t_lo__sec, res.t_hi__sec, res.sample_period__sec); \n",
    "\n",
    "        res.ys_sig_in   = np.sin(2*np.pi * (res.tone_freq_in__Hz  - 2.5) * res.ts_tone__sec) + 0.5*np.sin(2*np.pi * (res.tone_freq_in__Hz  + 2.5) * res.ts_tone__sec)\n",
    "        res.ys_sig_samp = np.sin(2*np.pi * (res.tone_freq_in__Hz  - 2.5) * res.ts_samp__sec) + 0.5*np.sin(2*np.pi * (res.tone_freq_in__Hz  + 2.5) * res.ts_samp__sec)\n",
    "        res.ys_sig_out  = np.sin(2*np.pi * (res.tone_freq_out__Hz - 2.5) * res.ts_tone__sec) + 0.5*np.sin(2*np.pi * (res.tone_freq_out__Hz + 2.5) * res.ts_tone__sec)\n",
    "        \n",
    "        res.N_fft        = res.ts_samp__sec.size\n",
    "        res.bin_size__Hz = res.sample_rate__Hz/res.N_fft;\n",
    "        \n",
    "        res.fs_fft = np.linspace(-res.sample_rate__Hz/2, +res.sample_rate__Hz/2-res.bin_size__Hz, res.N_fft) \n",
    "    \n",
    "        res.ys_sig_fft = sp.fft.fftshift(np.abs(np.fft.fft(res.ys_sig_samp, res.N_fft))/res.N_fft)\n",
    "\n",
    "        return res\n",
    "\n",
    "    slider_tone_freq__Hz   = widgets.FloatSlider(min=-50.0, max= +50.0, step=0.1, value= 15.0, description=\"tone freq [Hz]\",   continuous_update=True)\n",
    "    slider_sample_rate__Hz = widgets.FloatSlider(min=  4.0, max=+100.0, step=0.1, value= 50.0, description=\"sample rate [Hz]\", continuous_update=True)\n",
    "\n",
    "    fig = plt.figure(figsize=(12,5))\n",
    "    fig.canvas.toolbar_visible = False\n",
    "    fig.canvas.resizable       = False\n",
    "    \n",
    "    ax_t = fig.add_subplot(1, 2, 1)\n",
    "    ax_f = fig.add_subplot(1, 2, 2)\n",
    "\n",
    "    def update_lines(dummy):\n",
    "        res = generate_data(slider_tone_freq__Hz.value, slider_sample_rate__Hz.value)\n",
    "        \n",
    "        ax_t.clear()\n",
    "        ax_f.clear()\n",
    "\n",
    "        ax_t.set_ylim(res.t_lo__sec, res.t_hi__sec)\n",
    "        ax_t.set_ylim(-1.25, +1.75)\n",
    "        plt.sca(ax_t)\n",
    "        plt.xlabel(r'time [sec]')\n",
    "        plt.grid(visible=True, which='major', axis='y')\n",
    "        \n",
    "        sig_in_line,   = ax_t.plot(res.ts_tone__sec, res.ys_sig_in,   color='r', linewidth=5.0)\n",
    "        sig_samp_line, = ax_t.plot(res.ts_samp__sec, res.ys_sig_samp, color='b', linewidth=0.0, marker='o')\n",
    "        sig_out_line,  = ax_t.plot(res.ts_tone__sec, res.ys_sig_out,  color='k', linewidth=3.0)\n",
    "    \n",
    "        ax_t.legend([sig_in_line, sig_out_line, sig_samp_line], ['sig in', 'sig out', 'samples'])\n",
    "    \n",
    "        line_sig_fft, = ax_f.plot(res.fs_fft, res.ys_sig_fft,  color='b', linewidth=1.0)\n",
    "\n",
    "        ax_f.set_xlim(res.fs_fft[0], res.fs_fft[-1])\n",
    "        ax_f.set_ylim(0, +1.25)\n",
    "        plt.sca(ax_f)\n",
    "        plt.xlabel(r'freq [Hz]')\n",
    "        plt.grid(visible=True, which='major', axis='y')\n",
    "\n",
    "        ax_f.legend([line_sig_fft], ['|mag|'])\n",
    "\n",
    "        fig.canvas.draw_idle()\n",
    "\n",
    "    update_lines('dummy')\n",
    "        \n",
    "    slider_tone_freq__Hz.observe(update_lines, names='value')\n",
    "    slider_sample_rate__Hz.observe(update_lines, names='value')\n",
    "    \n",
    "    display(\n",
    "        widgets.VBox(\n",
    "            [slider_tone_freq__Hz, slider_sample_rate__Hz]\n",
    "        )\n",
    "    )\n",
    "    \n",
    "create_plot()"
   ]
  },
  {
   "cell_type": "markdown",
   "id": "4a1bb0c6-9f6a-4c4f-9955-eab16e92264b",
   "metadata": {},
   "source": [
    "Note the figure number above the plots.  If it starts getting large, you _might_ want to run this command\n",
    "to close all open plots and free up memory:"
   ]
  },
  {
   "cell_type": "code",
   "execution_count": null,
   "id": "d960b11d-4943-4c5c-9f49-cfb4feae6169",
   "metadata": {},
   "outputs": [],
   "source": [
    "plt.close('all')"
   ]
  },
  {
   "cell_type": "markdown",
   "id": "fd0e4214-ecd0-4842-86a3-4d956d4f5acf",
   "metadata": {},
   "source": [
    "These plots are basically the same as in Exercise 01.\n",
    "\n",
    "The input signal contains two tones that are 5Hz apart.\n",
    "\n",
    "**With the default plot settings, does the lower or higher frequency tone have the larger amplitude?  How do you know?**"
   ]
  },
  {
   "cell_type": "markdown",
   "id": "b6c74122-ec1c-4e3f-b0c4-b0a106365ca8",
   "metadata": {},
   "source": [
    "YOUR ANSWER HERE"
   ]
  },
  {
   "cell_type": "markdown",
   "id": "e71d9a07-5e86-4e90-94f2-1673ba3afe76",
   "metadata": {},
   "source": [
    "Move the **tone freq** slider up to (approx) 35Hz.\n",
    "\n",
    "**With these settings, does the lower or higher frequency tone have the larger amplitude?**"
   ]
  },
  {
   "cell_type": "markdown",
   "id": "7f7bd168-73a7-4074-b760-8facbd854e4d",
   "metadata": {},
   "source": [
    "YOUR ANSWER HERE"
   ]
  },
  {
   "cell_type": "markdown",
   "id": "ec9a5827-8e72-4691-a4f1-5170d2967314",
   "metadata": {},
   "source": [
    "**Explain what just happened.**"
   ]
  },
  {
   "cell_type": "markdown",
   "id": "a33e21a2-f4ae-42b4-858c-440671c6c644",
   "metadata": {},
   "source": [
    "YOUR ANSWER HERE"
   ]
  },
  {
   "cell_type": "markdown",
   "id": "26933d4a-dbf5-417c-b5eb-2a7f6b6d4322",
   "metadata": {},
   "source": [
    "This phenomenon is called **spectral inversion** and is often seen in DSP systems, especially those that sample or shift data collected at high frequencies."
   ]
  }
 ],
 "metadata": {
  "kernelspec": {
   "display_name": "Python 3 (ipykernel)",
   "language": "python",
   "name": "python3"
  },
  "language_info": {
   "codemirror_mode": {
    "name": "ipython",
    "version": 3
   },
   "file_extension": ".py",
   "mimetype": "text/x-python",
   "name": "python",
   "nbconvert_exporter": "python",
   "pygments_lexer": "ipython3",
   "version": "3.10.13"
  }
 },
 "nbformat": 4,
 "nbformat_minor": 5
}

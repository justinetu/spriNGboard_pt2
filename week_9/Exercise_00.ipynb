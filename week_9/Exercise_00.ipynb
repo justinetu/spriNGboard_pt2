{
 "cells": [
  {
   "cell_type": "markdown",
   "id": "5f7b84b1-322a-46ae-b7e1-4bf96b1a62ab",
   "metadata": {},
   "source": [
    "* sampling / aliasing\n",
    "* mag/phase\n",
    "* key transforms: tone/impulse, impulse train, sinc/rectangle\n",
    "* linear vs dB\n",
    "* real vs complex spectrums/symmetries\n",
    "* even vs odd spectrums/symmetries\n",
    "* orthogonality of complex exponentials --> sinc\n",
    "* discontinuities --> many frequencies\n"
   ]
  },
  {
   "cell_type": "code",
   "execution_count": 1,
   "id": "410d80fe-fc8a-42de-a20a-b40570f3322d",
   "metadata": {
    "scrolled": true
   },
   "outputs": [
    {
     "name": "stdout",
     "output_type": "stream",
     "text": [
      "Requirement already satisfied: pip in /home/justin/.pyenv/versions/3.10.13/envs/sb_kev_wk9/lib/python3.10/site-packages (24.0)\n",
      "Collecting numpy\n",
      "  Using cached numpy-1.26.4-cp310-cp310-manylinux_2_17_x86_64.manylinux2014_x86_64.whl.metadata (61 kB)\n",
      "Collecting scipy\n",
      "  Using cached scipy-1.12.0-cp310-cp310-manylinux_2_17_x86_64.manylinux2014_x86_64.whl.metadata (60 kB)\n",
      "Collecting matplotlib\n",
      "  Using cached matplotlib-3.8.3-cp310-cp310-manylinux_2_17_x86_64.manylinux2014_x86_64.whl.metadata (5.8 kB)\n",
      "Collecting ipywidgets\n",
      "  Using cached ipywidgets-8.1.2-py3-none-any.whl.metadata (2.4 kB)\n",
      "Collecting ipympl\n",
      "  Using cached ipympl-0.9.3-py2.py3-none-any.whl.metadata (1.3 kB)\n",
      "Collecting contourpy>=1.0.1 (from matplotlib)\n",
      "  Using cached contourpy-1.2.0-cp310-cp310-manylinux_2_17_x86_64.manylinux2014_x86_64.whl.metadata (5.8 kB)\n",
      "Collecting cycler>=0.10 (from matplotlib)\n",
      "  Using cached cycler-0.12.1-py3-none-any.whl.metadata (3.8 kB)\n",
      "Collecting fonttools>=4.22.0 (from matplotlib)\n",
      "  Using cached fonttools-4.50.0-cp310-cp310-manylinux_2_17_x86_64.manylinux2014_x86_64.whl.metadata (159 kB)\n",
      "Collecting kiwisolver>=1.3.1 (from matplotlib)\n",
      "  Using cached kiwisolver-1.4.5-cp310-cp310-manylinux_2_12_x86_64.manylinux2010_x86_64.whl.metadata (6.4 kB)\n",
      "Requirement already satisfied: packaging>=20.0 in /home/justin/.pyenv/versions/3.10.13/envs/sb_kev_wk9/lib/python3.10/site-packages (from matplotlib) (24.0)\n",
      "Collecting pillow>=8 (from matplotlib)\n",
      "  Using cached pillow-10.2.0-cp310-cp310-manylinux_2_17_x86_64.manylinux2014_x86_64.whl.metadata (9.7 kB)\n",
      "Collecting pyparsing>=2.3.1 (from matplotlib)\n",
      "  Using cached pyparsing-3.1.2-py3-none-any.whl.metadata (5.1 kB)\n",
      "Requirement already satisfied: python-dateutil>=2.7 in /home/justin/.pyenv/versions/3.10.13/envs/sb_kev_wk9/lib/python3.10/site-packages (from matplotlib) (2.9.0.post0)\n",
      "Requirement already satisfied: comm>=0.1.3 in /home/justin/.pyenv/versions/3.10.13/envs/sb_kev_wk9/lib/python3.10/site-packages (from ipywidgets) (0.2.2)\n",
      "Requirement already satisfied: ipython>=6.1.0 in /home/justin/.pyenv/versions/3.10.13/envs/sb_kev_wk9/lib/python3.10/site-packages (from ipywidgets) (8.22.2)\n",
      "Requirement already satisfied: traitlets>=4.3.1 in /home/justin/.pyenv/versions/3.10.13/envs/sb_kev_wk9/lib/python3.10/site-packages (from ipywidgets) (5.14.2)\n",
      "Collecting widgetsnbextension~=4.0.10 (from ipywidgets)\n",
      "  Using cached widgetsnbextension-4.0.10-py3-none-any.whl.metadata (1.6 kB)\n",
      "Collecting jupyterlab-widgets~=3.0.10 (from ipywidgets)\n",
      "  Using cached jupyterlab_widgets-3.0.10-py3-none-any.whl.metadata (4.1 kB)\n",
      "Collecting ipython-genutils (from ipympl)\n",
      "  Using cached ipython_genutils-0.2.0-py2.py3-none-any.whl.metadata (755 bytes)\n",
      "Requirement already satisfied: decorator in /home/justin/.pyenv/versions/3.10.13/envs/sb_kev_wk9/lib/python3.10/site-packages (from ipython>=6.1.0->ipywidgets) (5.1.1)\n",
      "Requirement already satisfied: jedi>=0.16 in /home/justin/.pyenv/versions/3.10.13/envs/sb_kev_wk9/lib/python3.10/site-packages (from ipython>=6.1.0->ipywidgets) (0.19.1)\n",
      "Requirement already satisfied: matplotlib-inline in /home/justin/.pyenv/versions/3.10.13/envs/sb_kev_wk9/lib/python3.10/site-packages (from ipython>=6.1.0->ipywidgets) (0.1.6)\n",
      "Requirement already satisfied: prompt-toolkit<3.1.0,>=3.0.41 in /home/justin/.pyenv/versions/3.10.13/envs/sb_kev_wk9/lib/python3.10/site-packages (from ipython>=6.1.0->ipywidgets) (3.0.43)\n",
      "Requirement already satisfied: pygments>=2.4.0 in /home/justin/.pyenv/versions/3.10.13/envs/sb_kev_wk9/lib/python3.10/site-packages (from ipython>=6.1.0->ipywidgets) (2.17.2)\n",
      "Requirement already satisfied: stack-data in /home/justin/.pyenv/versions/3.10.13/envs/sb_kev_wk9/lib/python3.10/site-packages (from ipython>=6.1.0->ipywidgets) (0.6.3)\n",
      "Requirement already satisfied: exceptiongroup in /home/justin/.pyenv/versions/3.10.13/envs/sb_kev_wk9/lib/python3.10/site-packages (from ipython>=6.1.0->ipywidgets) (1.2.0)\n",
      "Requirement already satisfied: pexpect>4.3 in /home/justin/.pyenv/versions/3.10.13/envs/sb_kev_wk9/lib/python3.10/site-packages (from ipython>=6.1.0->ipywidgets) (4.9.0)\n",
      "Requirement already satisfied: six>=1.5 in /home/justin/.pyenv/versions/3.10.13/envs/sb_kev_wk9/lib/python3.10/site-packages (from python-dateutil>=2.7->matplotlib) (1.16.0)\n",
      "Requirement already satisfied: parso<0.9.0,>=0.8.3 in /home/justin/.pyenv/versions/3.10.13/envs/sb_kev_wk9/lib/python3.10/site-packages (from jedi>=0.16->ipython>=6.1.0->ipywidgets) (0.8.3)\n",
      "Requirement already satisfied: ptyprocess>=0.5 in /home/justin/.pyenv/versions/3.10.13/envs/sb_kev_wk9/lib/python3.10/site-packages (from pexpect>4.3->ipython>=6.1.0->ipywidgets) (0.7.0)\n",
      "Requirement already satisfied: wcwidth in /home/justin/.pyenv/versions/3.10.13/envs/sb_kev_wk9/lib/python3.10/site-packages (from prompt-toolkit<3.1.0,>=3.0.41->ipython>=6.1.0->ipywidgets) (0.2.13)\n",
      "Requirement already satisfied: executing>=1.2.0 in /home/justin/.pyenv/versions/3.10.13/envs/sb_kev_wk9/lib/python3.10/site-packages (from stack-data->ipython>=6.1.0->ipywidgets) (2.0.1)\n",
      "Requirement already satisfied: asttokens>=2.1.0 in /home/justin/.pyenv/versions/3.10.13/envs/sb_kev_wk9/lib/python3.10/site-packages (from stack-data->ipython>=6.1.0->ipywidgets) (2.4.1)\n",
      "Requirement already satisfied: pure-eval in /home/justin/.pyenv/versions/3.10.13/envs/sb_kev_wk9/lib/python3.10/site-packages (from stack-data->ipython>=6.1.0->ipywidgets) (0.2.2)\n",
      "Using cached numpy-1.26.4-cp310-cp310-manylinux_2_17_x86_64.manylinux2014_x86_64.whl (18.2 MB)\n",
      "Using cached scipy-1.12.0-cp310-cp310-manylinux_2_17_x86_64.manylinux2014_x86_64.whl (38.4 MB)\n",
      "Using cached matplotlib-3.8.3-cp310-cp310-manylinux_2_17_x86_64.manylinux2014_x86_64.whl (11.6 MB)\n",
      "Using cached ipywidgets-8.1.2-py3-none-any.whl (139 kB)\n",
      "Using cached ipympl-0.9.3-py2.py3-none-any.whl (511 kB)\n",
      "Using cached contourpy-1.2.0-cp310-cp310-manylinux_2_17_x86_64.manylinux2014_x86_64.whl (310 kB)\n",
      "Using cached cycler-0.12.1-py3-none-any.whl (8.3 kB)\n",
      "Using cached fonttools-4.50.0-cp310-cp310-manylinux_2_17_x86_64.manylinux2014_x86_64.whl (4.6 MB)\n",
      "Using cached jupyterlab_widgets-3.0.10-py3-none-any.whl (215 kB)\n",
      "Using cached kiwisolver-1.4.5-cp310-cp310-manylinux_2_12_x86_64.manylinux2010_x86_64.whl (1.6 MB)\n",
      "Using cached pillow-10.2.0-cp310-cp310-manylinux_2_17_x86_64.manylinux2014_x86_64.whl (4.4 MB)\n",
      "Using cached pyparsing-3.1.2-py3-none-any.whl (103 kB)\n",
      "Using cached widgetsnbextension-4.0.10-py3-none-any.whl (2.3 MB)\n",
      "Using cached ipython_genutils-0.2.0-py2.py3-none-any.whl (26 kB)\n",
      "Installing collected packages: ipython-genutils, widgetsnbextension, pyparsing, pillow, numpy, kiwisolver, jupyterlab-widgets, fonttools, cycler, scipy, contourpy, matplotlib, ipywidgets, ipympl\n",
      "Successfully installed contourpy-1.2.0 cycler-0.12.1 fonttools-4.50.0 ipympl-0.9.3 ipython-genutils-0.2.0 ipywidgets-8.1.2 jupyterlab-widgets-3.0.10 kiwisolver-1.4.5 matplotlib-3.8.3 numpy-1.26.4 pillow-10.2.0 pyparsing-3.1.2 scipy-1.12.0 widgetsnbextension-4.0.10\n"
     ]
    }
   ],
   "source": [
    "import sys\n",
    "!{sys.executable} -m pip install -U pip\n",
    "!{sys.executable} -m pip install -U numpy scipy matplotlib ipywidgets ipympl"
   ]
  },
  {
   "cell_type": "code",
   "execution_count": 2,
   "id": "ee2cdb9d-7aa6-4b52-b916-22db638d7150",
   "metadata": {},
   "outputs": [],
   "source": [
    "%matplotlib widget\n",
    "\n",
    "import ipywidgets as widgets\n",
    "import numpy as np\n",
    "import scipy as sp\n",
    "import matplotlib.pyplot as plt"
   ]
  },
  {
   "cell_type": "code",
   "execution_count": 3,
   "id": "4abeb0c4-eaae-4663-a817-217cd0d17253",
   "metadata": {},
   "outputs": [
    {
     "ename": "NameError",
     "evalue": "name 'ts' is not defined",
     "output_type": "error",
     "traceback": [
      "\u001b[0;31m---------------------------------------------------------------------------\u001b[0m",
      "\u001b[0;31mNameError\u001b[0m                                 Traceback (most recent call last)",
      "Cell \u001b[0;32mIn[3], line 9\u001b[0m\n\u001b[1;32m      4\u001b[0m ts_samp \u001b[38;5;241m=\u001b[39m np\u001b[38;5;241m.\u001b[39mlinspace(\u001b[38;5;241m0.0\u001b[39m, \u001b[38;5;241m1.0\u001b[39m, N_fft)\n\u001b[1;32m      7\u001b[0m fs \u001b[38;5;241m=\u001b[39m np\u001b[38;5;241m.\u001b[39mlinspace(\u001b[38;5;241m0.0\u001b[39m, N_fft\u001b[38;5;241m-\u001b[39m\u001b[38;5;241m1.0\u001b[39m, N_fft)\n\u001b[0;32m----> 9\u001b[0m noise \u001b[38;5;241m=\u001b[39m \u001b[38;5;241m0.1\u001b[39m\u001b[38;5;241m*\u001b[39mnp\u001b[38;5;241m.\u001b[39mrandom\u001b[38;5;241m.\u001b[39mrandn(\u001b[43mts\u001b[49m\u001b[38;5;241m.\u001b[39msize)\n\u001b[1;32m     11\u001b[0m sig_1 \u001b[38;5;241m=\u001b[39m np\u001b[38;5;241m.\u001b[39msin(\u001b[38;5;241m2\u001b[39m\u001b[38;5;241m*\u001b[39mnp\u001b[38;5;241m.\u001b[39mpi\u001b[38;5;241m*\u001b[39m\u001b[38;5;241m100.0\u001b[39m\u001b[38;5;241m*\u001b[39mts) \u001b[38;5;241m+\u001b[39m noise\n\u001b[1;32m     12\u001b[0m sig_2 \u001b[38;5;241m=\u001b[39m np\u001b[38;5;241m.\u001b[39mcos(\u001b[38;5;241m2\u001b[39m\u001b[38;5;241m*\u001b[39mnp\u001b[38;5;241m.\u001b[39mpi\u001b[38;5;241m*\u001b[39m\u001b[38;5;241m100.0\u001b[39m\u001b[38;5;241m*\u001b[39mts) \u001b[38;5;241m+\u001b[39m noise\n",
      "\u001b[0;31mNameError\u001b[0m: name 'ts' is not defined"
     ]
    }
   ],
   "source": [
    "N_fft = 32\n",
    "\n",
    "ts_cont = np.linspace(0.0, 1.0, 10*N_fft)\n",
    "ts_samp = np.linspace(0.0, 1.0, N_fft)\n",
    "\n",
    "\n",
    "fs = np.linspace(0.0, N_fft-1.0, N_fft)\n",
    "\n",
    "noise = 0.1*np.random.randn(ts.size)\n",
    "\n",
    "sig_1 = np.sin(2*np.pi*100.0*ts) + noise\n",
    "sig_2 = np.cos(2*np.pi*100.0*ts) + noise\n",
    "sig_3 = np.exp(1j*2*np.pi*100.0*ts) + noise\n",
    "\n",
    "fft_1 = sp.fft.fft(sig_1, 1024)\n",
    "fft_2 = sp.fft.fft(sig_2, 1024)\n",
    "fft_3 = sp.fft.fft(sig_3, 1024)\n",
    "\n",
    "fig = plt.figure()\n",
    "ax_1 = fig.add_subplot(3, 1, 1)\n",
    "ax_1.plot(fs, 20*np.log10(np.abs(fft_1)))\n",
    "ax_1.set_ylim(-10, +70)\n",
    "\n",
    "ax_2 = fig.add_subplot(3, 1, 2)\n",
    "ax_2.plot(fs, 20*np.log10(np.abs(fft_2)))\n",
    "ax_2.set_ylim(-10, +70)\n",
    "\n",
    "ax_3 = fig.add_subplot(3, 1, 3)\n",
    "ax_3.plot(fs, 20*np.log10(np.abs(fft_3)))\n",
    "ax_3.set_ylim(-10, +70)\n",
    "\n",
    "plt.show()"
   ]
  },
  {
   "cell_type": "code",
   "execution_count": null,
   "id": "e68cc989-68b7-478f-8cba-ab10d3d8659b",
   "metadata": {},
   "outputs": [],
   "source": []
  }
 ],
 "metadata": {
  "kernelspec": {
   "display_name": "Python 3 (ipykernel)",
   "language": "python",
   "name": "python3"
  },
  "language_info": {
   "codemirror_mode": {
    "name": "ipython",
    "version": 3
   },
   "file_extension": ".py",
   "mimetype": "text/x-python",
   "name": "python",
   "nbconvert_exporter": "python",
   "pygments_lexer": "ipython3",
   "version": "3.10.13"
  }
 },
 "nbformat": 4,
 "nbformat_minor": 5
}

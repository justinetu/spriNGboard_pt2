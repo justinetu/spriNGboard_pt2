{
 "cells": [
  {
   "cell_type": "markdown",
   "id": "06c2b7ff-f6d4-4fea-b022-e892738bc871",
   "metadata": {},
   "source": [
    "# Exercise 01: Gradient Descent\n",
    "\n",
    "**Learn a bit about gradient descent from videos, web pages, books, etc., and summarize some key concepts below.  Cite your sources.**"
   ]
  },
  {
   "cell_type": "markdown",
   "id": "8adbdba2-b1b2-42b2-8ea5-afd80d193cf6",
   "metadata": {},
   "source": [
    "Gradiet descent is an optimazation algorithm used to train machine learning algorithms and neural networks. It improves accuracy by minimizing errors between predicted and actual results.\n",
    "\n",
    "Training data helps ML models learn over time. The cost function within gradient descent guages the accuracy of the model with each iteration of parameter updates moving closer and closer to zero. It chooses the smallest possible error.\n",
    "\n",
    "“What Is Gradient Descent?” IBM, 5 Apr. 2024, www.ibm.com/topics/gradient-descent. "
   ]
  },
  {
   "cell_type": "code",
   "execution_count": null,
   "id": "82baa30b-ce69-43a4-81e6-81ec5225181b",
   "metadata": {},
   "outputs": [],
   "source": []
  }
 ],
 "metadata": {
  "kernelspec": {
   "display_name": "Python 3 (ipykernel)",
   "language": "python",
   "name": "python3"
  },
  "language_info": {
   "codemirror_mode": {
    "name": "ipython",
    "version": 3
   },
   "file_extension": ".py",
   "mimetype": "text/x-python",
   "name": "python",
   "nbconvert_exporter": "python",
   "pygments_lexer": "ipython3",
   "version": "3.10.13"
  }
 },
 "nbformat": 4,
 "nbformat_minor": 5
}

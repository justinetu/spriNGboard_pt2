{
 "cells": [
  {
   "cell_type": "markdown",
   "id": "fa481f8d-cb1b-4b31-b441-11c6b40b7356",
   "metadata": {},
   "source": [
    "# Exercise 02: Weighted Least Squares\n",
    "\n",
    "**Learn a bit about weighted least squared (WLS) from videos, web pages, books, etc., and summarize some key concepts below.  Cite your sources.**"
   ]
  },
  {
   "cell_type": "markdown",
   "id": "174cea75-dc6a-4816-9eea-0a14a2c80b4c",
   "metadata": {},
   "source": [
    "Weighted least squares is an estimation technique that weights the observations proportional to the reciprocal of the error variance for that observation.\n",
    "\n",
    "Weighted Least Squares, ms.mcmaster.ca/canty/teaching/stat3a03/Lectures7.pdf. Accessed 29 Apr. 2024."
   ]
  },
  {
   "cell_type": "code",
   "execution_count": null,
   "id": "d38d9857-21fd-4dd8-8333-07fef40403da",
   "metadata": {},
   "outputs": [],
   "source": []
  }
 ],
 "metadata": {
  "kernelspec": {
   "display_name": "Python 3 (ipykernel)",
   "language": "python",
   "name": "python3"
  },
  "language_info": {
   "codemirror_mode": {
    "name": "ipython",
    "version": 3
   },
   "file_extension": ".py",
   "mimetype": "text/x-python",
   "name": "python",
   "nbconvert_exporter": "python",
   "pygments_lexer": "ipython3",
   "version": "3.10.13"
  }
 },
 "nbformat": 4,
 "nbformat_minor": 5
}

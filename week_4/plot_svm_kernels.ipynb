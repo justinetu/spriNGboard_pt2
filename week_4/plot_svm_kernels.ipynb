{
 "cells": [
  {
   "cell_type": "markdown",
   "metadata": {},
   "source": [
    "\n",
    "# Plot classification boundaries with different SVM Kernels\n",
    "This example shows how different kernels in a :class:`~sklearn.svm.SVC` (Support Vector\n",
    "Classifier) influence the classification boundaries in a binary, two-dimensional\n",
    "classification problem.\n",
    "\n",
    "SVCs aim to find a hyperplane that effectively separates the classes in their training\n",
    "data by maximizing the margin between the outermost data points of each class. This is\n",
    "achieved by finding the best weight vector $w$ that defines the decision boundary\n",
    "hyperplane and minimizes the sum of hinge losses for misclassified samples, as measured\n",
    "by the :func:`~sklearn.metrics.hinge_loss` function. By default, regularization is\n",
    "applied with the parameter `C=1`, which allows for a certain degree of misclassification\n",
    "tolerance.\n",
    "\n",
    "If the data is not linearly separable in the original feature space, a non-linear kernel\n",
    "parameter can be set. Depending on the kernel, the process involves adding new features\n",
    "or transforming existing features to enrich and potentially add meaning to the data.\n",
    "When a kernel other than `\"linear\"` is set, the SVC applies the [kernel trick](https://en.wikipedia.org/wiki/Kernel_method#Mathematics:_the_kernel_trick)_, which\n",
    "computes the similarity between pairs of data points using the kernel function without\n",
    "explicitly transforming the entire dataset. The kernel trick surpasses the otherwise\n",
    "necessary matrix transformation of the whole dataset by only considering the relations\n",
    "between all pairs of data points. The kernel function maps two vectors (each pair of\n",
    "observations) to their similarity using their dot product.\n",
    "\n",
    "The hyperplane can then be calculated using the kernel function as if the dataset were\n",
    "represented in a higher-dimensional space. Using a kernel function instead of an\n",
    "explicit matrix transformation improves performance, as the kernel function has a time\n",
    "complexity of $O({n}^2)$, whereas matrix transformation scales according to the\n",
    "specific transformation being applied.\n",
    "\n",
    "In this example, we compare the most common kernel types of Support Vector Machines: the\n",
    "linear kernel (`\"linear\"`), the polynomial kernel (`\"poly\"`), the radial basis function\n",
    "kernel (`\"rbf\"`) and the sigmoid kernel (`\"sigmoid\"`).\n"
   ]
  },
  {
   "cell_type": "code",
   "execution_count": null,
   "metadata": {
    "collapsed": false,
    "jupyter": {
     "outputs_hidden": false
    }
   },
   "outputs": [],
   "source": [
    "# Code source: Gaël Varoquaux\n",
    "# License: BSD 3 clause"
   ]
  },
  {
   "cell_type": "markdown",
   "metadata": {},
   "source": [
    "## Creating a dataset\n",
    "We create a two-dimensional classification dataset with 16 samples and two classes. We\n",
    "plot the samples with the colors matching their respective targets.\n",
    "\n"
   ]
  },
  {
   "cell_type": "code",
   "execution_count": null,
   "metadata": {
    "collapsed": false,
    "jupyter": {
     "outputs_hidden": false
    }
   },
   "outputs": [],
   "source": [
    "import matplotlib.pyplot as plt\n",
    "import numpy as np\n",
    "\n",
    "X = np.array(\n",
    "    [\n",
    "        [0.4, -0.7],\n",
    "        [-1.5, -1.0],\n",
    "        [-1.4, -0.9],\n",
    "        [-1.3, -1.2],\n",
    "        [-1.1, -0.2],\n",
    "        [-1.2, -0.4],\n",
    "        [-0.5, 1.2],\n",
    "        [-1.5, 2.1],\n",
    "        [1.0, 1.0],\n",
    "        [1.3, 0.8],\n",
    "        [1.2, 0.5],\n",
    "        [0.2, -2.0],\n",
    "        [0.5, -2.4],\n",
    "        [0.2, -2.3],\n",
    "        [0.0, -2.7],\n",
    "        [1.3, 2.1],\n",
    "    ]\n",
    ")\n",
    "\n",
    "y = np.array([0, 0, 0, 0, 0, 0, 0, 0, 1, 1, 1, 1, 1, 1, 1, 1])\n",
    "\n",
    "# Plotting settings\n",
    "fig, ax = plt.subplots(figsize=(4, 3))\n",
    "x_min, x_max, y_min, y_max = -3, 3, -3, 3\n",
    "ax.set(xlim=(x_min, x_max), ylim=(y_min, y_max))\n",
    "\n",
    "# Plot samples by color and add legend\n",
    "scatter = ax.scatter(X[:, 0], X[:, 1], s=150, c=y, label=y, edgecolors=\"k\")\n",
    "ax.legend(*scatter.legend_elements(), loc=\"upper right\", title=\"Classes\")\n",
    "ax.set_title(\"Samples in two-dimensional feature space\")\n",
    "_ = plt.show()"
   ]
  },
  {
   "cell_type": "markdown",
   "metadata": {},
   "source": [
    "We can see that the samples are not clearly separable by a straight line.\n",
    "\n",
    "## Training SVC model and plotting decision boundaries\n",
    "We define a function that fits a :class:`~sklearn.svm.SVC` classifier,\n",
    "allowing the `kernel` parameter as an input, and then plots the decision\n",
    "boundaries learned by the model using\n",
    ":class:`~sklearn.inspection.DecisionBoundaryDisplay`.\n",
    "\n",
    "Notice that for the sake of simplicity, the `C` parameter is set to its\n",
    "default value (`C=1`) in this example and the `gamma` parameter is set to\n",
    "`gamma=2` across all kernels, although it is automatically ignored for the\n",
    "linear kernel. In a real classification task, where performance matters,\n",
    "parameter tuning (by using :class:`~sklearn.model_selection.GridSearchCV` for\n",
    "instance) is highly recommended to capture different structures within the\n",
    "data.\n",
    "\n",
    "Setting `response_method=\"predict\"` in\n",
    ":class:`~sklearn.inspection.DecisionBoundaryDisplay` colors the areas based\n",
    "on their predicted class. Using `response_method=\"decision_function\"` allows\n",
    "us to also plot the decision boundary and the margins to both sides of it.\n",
    "Finally the support vectors used during training (which always lay on the\n",
    "margins) are identified by means of the `support_vectors_` attribute of\n",
    "the trained SVCs, and plotted as well.\n",
    "\n"
   ]
  },
  {
   "cell_type": "code",
   "execution_count": null,
   "metadata": {
    "collapsed": false,
    "jupyter": {
     "outputs_hidden": false
    }
   },
   "outputs": [],
   "source": [
    "from sklearn import svm\n",
    "from sklearn.inspection import DecisionBoundaryDisplay\n",
    "\n",
    "\n",
    "def plot_training_data_with_decision_boundary(kernel):\n",
    "    # Train the SVC\n",
    "    clf = svm.SVC(kernel=kernel, gamma=2).fit(X, y)\n",
    "\n",
    "    # Settings for plotting\n",
    "    _, ax = plt.subplots(figsize=(4, 3))\n",
    "    x_min, x_max, y_min, y_max = -3, 3, -3, 3\n",
    "    ax.set(xlim=(x_min, x_max), ylim=(y_min, y_max))\n",
    "\n",
    "    # Plot decision boundary and margins\n",
    "    common_params = {\"estimator\": clf, \"X\": X, \"ax\": ax}\n",
    "    DecisionBoundaryDisplay.from_estimator(\n",
    "        **common_params,\n",
    "        response_method=\"predict\",\n",
    "        plot_method=\"pcolormesh\",\n",
    "        alpha=0.3,\n",
    "    )\n",
    "    DecisionBoundaryDisplay.from_estimator(\n",
    "        **common_params,\n",
    "        response_method=\"decision_function\",\n",
    "        plot_method=\"contour\",\n",
    "        levels=[-1, 0, 1],\n",
    "        colors=[\"k\", \"k\", \"k\"],\n",
    "        linestyles=[\"--\", \"-\", \"--\"],\n",
    "    )\n",
    "\n",
    "    # Plot bigger circles around samples that serve as support vectors\n",
    "    ax.scatter(\n",
    "        clf.support_vectors_[:, 0],\n",
    "        clf.support_vectors_[:, 1],\n",
    "        s=250,\n",
    "        facecolors=\"none\",\n",
    "        edgecolors=\"k\",\n",
    "    )\n",
    "    # Plot samples by color and add legend\n",
    "    ax.scatter(X[:, 0], X[:, 1], c=y, s=150, edgecolors=\"k\")\n",
    "    ax.legend(*scatter.legend_elements(), loc=\"upper right\", title=\"Classes\")\n",
    "    ax.set_title(f\" Decision boundaries of {kernel} kernel in SVC\")\n",
    "\n",
    "    _ = plt.show()"
   ]
  },
  {
   "cell_type": "markdown",
   "metadata": {},
   "source": [
    "### Linear kernel\n",
    "Linear kernel is the dot product of the input samples:\n",
    "\n",
    "\\begin{align}K(\\mathbf{x}_1, \\mathbf{x}_2) = \\mathbf{x}_1^\\top \\mathbf{x}_2\\end{align}\n",
    "\n",
    "It is then applied to any combination of two data points (samples) in the\n",
    "dataset. The dot product of the two points determines the\n",
    ":func:`~sklearn.metrics.pairwise.cosine_similarity` between both points. The\n",
    "higher the value, the more similar the points are.\n",
    "\n"
   ]
  },
  {
   "cell_type": "code",
   "execution_count": null,
   "metadata": {
    "collapsed": false,
    "jupyter": {
     "outputs_hidden": false
    }
   },
   "outputs": [],
   "source": [
    "plot_training_data_with_decision_boundary(\"linear\")"
   ]
  },
  {
   "cell_type": "markdown",
   "metadata": {},
   "source": [
    "Training a :class:`~sklearn.svm.SVC` on a linear kernel results in an\n",
    "untransformed feature space, where the hyperplane and the margins are\n",
    "straight lines. Due to the lack of expressivity of the linear kernel, the\n",
    "trained classes do not perfectly capture the training data.\n",
    "\n",
    "### Polynomial kernel\n",
    "The polynomial kernel changes the notion of similarity. The kernel function\n",
    "is defined as:\n",
    "\n",
    "\\begin{align}K(\\mathbf{x}_1, \\mathbf{x}_2) = (\\gamma \\cdot \\\n",
    "      \\mathbf{x}_1^\\top\\mathbf{x}_2 + r)^d\\end{align}\n",
    "\n",
    "where ${d}$ is the degree (`degree`) of the polynomial, ${\\gamma}$\n",
    "(`gamma`) controls the influence of each individual training sample on the\n",
    "decision boundary and ${r}$ is the bias term (`coef0`) that shifts the\n",
    "data up or down. Here, we use the default value for the degree of the\n",
    "polynomial in the kernel function (`degree=3`). When `coef0=0` (the default),\n",
    "the data is only transformed, but no additional dimension is added. Using a\n",
    "polynomial kernel is equivalent to creating\n",
    ":class:`~sklearn.preprocessing.PolynomialFeatures` and then fitting a\n",
    ":class:`~sklearn.svm.SVC` with a linear kernel on the transformed data,\n",
    "although this alternative approach would be computationally expensive for most\n",
    "datasets.\n",
    "\n"
   ]
  },
  {
   "cell_type": "code",
   "execution_count": null,
   "metadata": {
    "collapsed": false,
    "jupyter": {
     "outputs_hidden": false
    }
   },
   "outputs": [],
   "source": [
    "plot_training_data_with_decision_boundary(\"poly\")"
   ]
  },
  {
   "cell_type": "markdown",
   "metadata": {},
   "source": [
    "The polynomial kernel with `gamma=2`` adapts well to the training data,\n",
    "causing the margins on both sides of the hyperplane to bend accordingly.\n",
    "\n",
    "### RBF kernel\n",
    "The radial basis function (RBF) kernel, also known as the Gaussian kernel, is\n",
    "the default kernel for Support Vector Machines in scikit-learn. It measures\n",
    "similarity between two data points in infinite dimensions and then approaches\n",
    "classification by majority vote. The kernel function is defined as:\n",
    "\n",
    "\\begin{align}K(\\mathbf{x}_1, \\mathbf{x}_2) = \\exp\\left(-\\gamma \\cdot\n",
    "      {\\|\\mathbf{x}_1 - \\mathbf{x}_2\\|^2}\\right)\\end{align}\n",
    "\n",
    "where ${\\gamma}$ (`gamma`) controls the influence of each individual\n",
    "training sample on the decision boundary.\n",
    "\n",
    "The larger the euclidean distance between two points\n",
    "$\\|\\mathbf{x}_1 - \\mathbf{x}_2\\|^2$\n",
    "the closer the kernel function is to zero. This means that two points far away\n",
    "are more likely to be dissimilar.\n",
    "\n"
   ]
  },
  {
   "cell_type": "code",
   "execution_count": null,
   "metadata": {
    "collapsed": false,
    "jupyter": {
     "outputs_hidden": false
    }
   },
   "outputs": [],
   "source": [
    "plot_training_data_with_decision_boundary(\"rbf\")"
   ]
  },
  {
   "cell_type": "markdown",
   "metadata": {},
   "source": [
    "In the plot we can see how the decision boundaries tend to contract around\n",
    "data points that are close to each other.\n",
    "\n",
    "### Sigmoid kernel\n",
    "The sigmoid kernel function is defined as:\n",
    "\n",
    "\\begin{align}K(\\mathbf{x}_1, \\mathbf{x}_2) = \\tanh(\\gamma \\cdot\n",
    "      \\mathbf{x}_1^\\top\\mathbf{x}_2 + r)\\end{align}\n",
    "\n",
    "where the kernel coefficient ${\\gamma}$ (`gamma`) controls the influence\n",
    "of each individual training sample on the decision boundary and ${r}$ is\n",
    "the bias term (`coef0`) that shifts the data up or down.\n",
    "\n",
    "In the sigmoid kernel, the similarity between two data points is computed\n",
    "using the hyperbolic tangent function ($\\tanh$). The kernel function\n",
    "scales and possibly shifts the dot product of the two points\n",
    "($\\mathbf{x}_1$ and $\\mathbf{x}_2$).\n",
    "\n"
   ]
  },
  {
   "cell_type": "code",
   "execution_count": null,
   "metadata": {
    "collapsed": false,
    "jupyter": {
     "outputs_hidden": false
    }
   },
   "outputs": [],
   "source": [
    "plot_training_data_with_decision_boundary(\"sigmoid\")"
   ]
  },
  {
   "cell_type": "markdown",
   "metadata": {},
   "source": [
    "We can see that the decision boundaries obtained with the sigmoid kernel\n",
    "appear curved and irregular. The decision boundary tries to separate the\n",
    "classes by fitting a sigmoid-shaped curve, resulting in a complex boundary\n",
    "that may not generalize well to unseen data. From this example it becomes\n",
    "obvious, that the sigmoid kernel has very specific use cases, when dealing\n",
    "with data that exhibits a sigmoidal shape. In this example, careful fine\n",
    "tuning might find more generalizable decision boundaries. Because of it's\n",
    "specificity, the sigmoid kernel is less commonly used in practice compared to\n",
    "other kernels.\n",
    "\n",
    "## Conclusion\n",
    "In this example, we have visualized the decision boundaries trained with the\n",
    "provided dataset. The plots serve as an intuitive demonstration of how\n",
    "different kernels utilize the training data to determine the classification\n",
    "boundaries.\n",
    "\n",
    "The hyperplanes and margins, although computed indirectly, can be imagined as\n",
    "planes in the transformed feature space. However, in the plots, they are\n",
    "represented relative to the original feature space, resulting in curved\n",
    "decision boundaries for the polynomial, RBF, and sigmoid kernels.\n",
    "\n",
    "Please note that the plots do not evaluate the individual kernel's accuracy or\n",
    "quality. They are intended to provide a visual understanding of how the\n",
    "different kernels use the training data.\n",
    "\n",
    "For a comprehensive evaluation, fine-tuning of :class:`~sklearn.svm.SVC`\n",
    "parameters using techniques such as\n",
    ":class:`~sklearn.model_selection.GridSearchCV` is recommended to capture the\n",
    "underlying structures within the data.\n",
    "\n"
   ]
  },
  {
   "cell_type": "code",
   "execution_count": null,
   "metadata": {},
   "outputs": [],
   "source": []
  }
 ],
 "metadata": {
  "kernelspec": {
   "display_name": "Python 3 (ipykernel)",
   "language": "python",
   "name": "python3"
  },
  "language_info": {
   "codemirror_mode": {
    "name": "ipython",
    "version": 3
   },
   "file_extension": ".py",
   "mimetype": "text/x-python",
   "name": "python",
   "nbconvert_exporter": "python",
   "pygments_lexer": "ipython3",
   "version": "3.10.13"
  }
 },
 "nbformat": 4,
 "nbformat_minor": 4
}

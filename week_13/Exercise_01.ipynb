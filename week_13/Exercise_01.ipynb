{
 "cells": [
  {
   "cell_type": "markdown",
   "id": "8683965e-1403-4538-815a-181760218732",
   "metadata": {},
   "source": [
    "# Exercise 01: Filter Simulation\n",
    "\n",
    "In this exercise,\n",
    "you will explore how input samples, x[t],\n",
    "are manipulated\n",
    "as they pass through a digital filter, h[t]."
   ]
  },
  {
   "cell_type": "markdown",
   "id": "32a66559-0405-4bd4-9251-acfb55fe80ec",
   "metadata": {},
   "source": [
    "```\n",
    "h                 1  2  3\n",
    "===========================================\n",
    "t=-3  5  4  3  2  1\n",
    "t=-2     5  4  3  2  1\n",
    "t=-1        5  4  3  2  1\n",
    "t= 0           5  4  3  2  1\n",
    "t=+1              5  4  3  2  1\n",
    "t=+2                 5  4  3  2  1\n",
    "t=+3                    5  4  3  2  1\n",
    "===========================================\n",
    "y           ?  ?  ?  ?  ?  ?  ?\n",
    "```"
   ]
  },
  {
   "cell_type": "markdown",
   "id": "be86629e-1c0c-4699-b6b4-a28fe1747f34",
   "metadata": {},
   "source": [
    "**What is the impulse response of h[t] (in the proper order)?**"
   ]
  },
  {
   "cell_type": "markdown",
   "id": "d7ab3617-c18b-4a3e-9f56-a668329d7aaf",
   "metadata": {},
   "source": [
    "[1,2,3]"
   ]
  },
  {
   "cell_type": "markdown",
   "id": "91cd03c0-fbd3-4edb-849e-d983138b2413",
   "metadata": {},
   "source": [
    "**What are the values of x[t] (in the proper order)?**"
   ]
  },
  {
   "cell_type": "markdown",
   "id": "c82b1fb4-bba1-4c38-b003-4df7fb0e8f4e",
   "metadata": {},
   "source": [
    "[5 4 3 2 1]"
   ]
  },
  {
   "cell_type": "markdown",
   "id": "ce2c49f9-4796-472e-ad68-1164d2c8940a",
   "metadata": {},
   "source": [
    "**Recalling that a filter outputs the weighted sum of its inputs, what are the values of y[t] (in the proper order)?**"
   ]
  },
  {
   "cell_type": "markdown",
   "id": "62342779-c9c5-494c-a18b-6b80f3f32a94",
   "metadata": {},
   "source": [
    "[1 4 10 16 22 22 15]"
   ]
  },
  {
   "cell_type": "markdown",
   "id": "b4069039-6e9f-4394-9a64-6843be2c3227",
   "metadata": {},
   "source": [
    "**What are the values of y[t] at times not represented by question marks?  Why?**"
   ]
  },
  {
   "cell_type": "markdown",
   "id": "f7fa4f21-6b4e-482f-ba74-f95f35a58d5a",
   "metadata": {},
   "source": [
    "[]"
   ]
  },
  {
   "cell_type": "markdown",
   "id": "50e0ce1b-ce7c-4ad7-91fe-451d1581c20f",
   "metadata": {},
   "source": [
    "**If h[0]=1 and x[0]=3, what is the output of the system at t=0?**"
   ]
  },
  {
   "cell_type": "markdown",
   "id": "87adc560-b385-4fd1-bc43-01060cebc973",
   "metadata": {},
   "source": [
    "[3,2,3,4,5]"
   ]
  },
  {
   "cell_type": "markdown",
   "id": "42a1f722-9806-42fb-b8b5-6c8e0d7fdeb6",
   "metadata": {},
   "source": [
    "**What will adding two zeros to the front of h[t] (so that h[2]=1) do to y[t]?**"
   ]
  },
  {
   "cell_type": "markdown",
   "id": "08bec45c-274c-41d6-ba33-088c3017b039",
   "metadata": {},
   "source": [
    "It will shift y[t] 2 to the right"
   ]
  },
  {
   "cell_type": "markdown",
   "id": "73e6f124-3ed5-40b7-aae4-b443d02fc04d",
   "metadata": {},
   "source": [
    "**What will adding two zeros to the end of h[t] do to y[t]?**"
   ]
  },
  {
   "cell_type": "markdown",
   "id": "7a3b39d2-41f7-4d90-8054-6571e858a69f",
   "metadata": {},
   "source": [
    "It will shift y[t] values left."
   ]
  },
  {
   "cell_type": "code",
   "execution_count": null,
   "id": "a486fe45-be4d-46d3-93dc-9255462c092c",
   "metadata": {},
   "outputs": [],
   "source": []
  }
 ],
 "metadata": {
  "kernelspec": {
   "display_name": "Python 3 (ipykernel)",
   "language": "python",
   "name": "python3"
  },
  "language_info": {
   "codemirror_mode": {
    "name": "ipython",
    "version": 3
   },
   "file_extension": ".py",
   "mimetype": "text/x-python",
   "name": "python",
   "nbconvert_exporter": "python",
   "pygments_lexer": "ipython3",
   "version": "3.10.13"
  }
 },
 "nbformat": 4,
 "nbformat_minor": 5
}

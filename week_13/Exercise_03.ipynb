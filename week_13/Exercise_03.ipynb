{
 "cells": [
  {
   "cell_type": "markdown",
   "id": "92416121-f832-400f-ac53-de17738e29a0",
   "metadata": {},
   "source": [
    "# Exercise 03: Convolution Grid\n",
    "\n",
    "In this exercise,\n",
    "you'll learn how to compute convolutions\n",
    "by using a handy grid technique."
   ]
  },
  {
   "cell_type": "markdown",
   "id": "8ab8c403-8fa7-4bbf-b284-e515ffb95c97",
   "metadata": {},
   "source": [
    "Suppose we want to convolve x[t] = [1 2 3 4 5] with h[t] = [1 2 3].\n",
    "\n",
    "First, we create the borders of a grid as follows:\n",
    "\n",
    "```\n",
    "                  x\n",
    "            1  2  3  4  5\n",
    "       --+---------------\n",
    "       1 |\n",
    "    h  2 |\n",
    "       3 |\n",
    "```\n",
    "\n",
    "Next, we multiply x by each value of h:\n",
    "\n",
    "```\n",
    "                  x\n",
    "            1  2  3  4  5\n",
    "       --+---------------\n",
    "       1 |  1  2  3  4  5\n",
    "    h  2 |  2  4  6  8 10\n",
    "       3 |  3  6  9  12  15\n",
    "```"
   ]
  },
  {
   "cell_type": "markdown",
   "id": "5f8f838e-f741-4cba-b9f5-c78d19f179b7",
   "metadata": {},
   "source": [
    "**Fill in the question marks in the above diagram.**"
   ]
  },
  {
   "cell_type": "markdown",
   "id": "d04f82db-077e-476d-b805-faa01bde0806",
   "metadata": {},
   "source": [
    "Now we sum along the diagonals that run from top-right to bottom-left:\n",
    "\n",
    "```\n",
    "                  x\n",
    "            1  2  3  4  5\n",
    "       --+---------------\n",
    "       1 |  1  2  3  4  5\n",
    "    h  2 |  2  4  6  8 10\n",
    "       3 |  3  6  9  12 15\n",
    "   1  4 10 16 22 22  15\n",
    "```\n",
    "\n",
    "(Note that 1 = 1 and 4 = 2 + 2.  The third question mark in the output would be ? = 3 + 4 + ?.  The pattern continues.)"
   ]
  },
  {
   "cell_type": "markdown",
   "id": "2ade7681-59cb-479d-90f8-e39d5be406fc",
   "metadata": {},
   "source": [
    "**Fill in the question marks in the above diagram.**"
   ]
  },
  {
   "cell_type": "code",
   "execution_count": null,
   "id": "375f72ef-4961-44ae-8bb3-d54456549438",
   "metadata": {},
   "outputs": [],
   "source": []
  }
 ],
 "metadata": {
  "kernelspec": {
   "display_name": "Python 3 (ipykernel)",
   "language": "python",
   "name": "python3"
  },
  "language_info": {
   "codemirror_mode": {
    "name": "ipython",
    "version": 3
   },
   "file_extension": ".py",
   "mimetype": "text/x-python",
   "name": "python",
   "nbconvert_exporter": "python",
   "pygments_lexer": "ipython3",
   "version": "3.10.13"
  }
 },
 "nbformat": 4,
 "nbformat_minor": 5
}

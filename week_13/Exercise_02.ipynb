{
 "cells": [
  {
   "cell_type": "markdown",
   "id": "e5102faa-7534-44ae-bbf1-bbeb9f12e168",
   "metadata": {},
   "source": [
    "# Exercise 02: Convolution With Impulses\n",
    "\n",
    "In this exercise,\n",
    "you will explore how a digital filter\n",
    "can be viewed as the sum of delayed impulses."
   ]
  },
  {
   "cell_type": "markdown",
   "id": "c57a3518-7ec2-4a29-8c6c-a5c3985d31e1",
   "metadata": {},
   "source": [
    "Consider a filter with a single non-zero tap: h[0] = 1.\n",
    "\n",
    "**What effect does h have on an input signal x[t]?**"
   ]
  },
  {
   "cell_type": "markdown",
   "id": "644c46fc-1d19-45cc-b8bc-84ff2d3e71b2",
   "metadata": {},
   "source": [
    "h wil multiply x[t] by 1 where t = 0"
   ]
  },
  {
   "cell_type": "markdown",
   "id": "91c56525-5968-4810-87dc-75fe6c4c9512",
   "metadata": {},
   "source": [
    "Consider a filter with a single non-zero tap: h[0] = a.\n",
    "\n",
    "**What effect does h have on an input signal x[t]?**"
   ]
  },
  {
   "cell_type": "markdown",
   "id": "fe5fa94d-2aa6-4a62-818d-51087e970310",
   "metadata": {},
   "source": [
    "x[t] will be multiplied by a."
   ]
  },
  {
   "cell_type": "markdown",
   "id": "982e5fca-a403-449f-945e-97e3408ab85e",
   "metadata": {},
   "source": [
    "Now consider a filter with a single non-zero tap: h[1] = 1.\n",
    "\n",
    "**What effect does h have on an input signal x[t]?**"
   ]
  },
  {
   "cell_type": "markdown",
   "id": "52a9be59-68c0-4ab4-9b82-e768d23c8f28",
   "metadata": {},
   "source": [
    "x[t] will be multiplied by 1 and shifted 1 to the right."
   ]
  },
  {
   "cell_type": "markdown",
   "id": "593c0c96-51ea-4d45-842e-240cc6ca402f",
   "metadata": {},
   "source": [
    "Now consider a filter with a single non-zero tap: h[d] = a.\n",
    "\n",
    "**What effect does h have on an input signal x[t]?**"
   ]
  },
  {
   "cell_type": "markdown",
   "id": "43dd789d-e833-4b5d-85ab-9d80bc3af5f7",
   "metadata": {},
   "source": [
    "where t = d, x[t] will be multiplied by a."
   ]
  },
  {
   "cell_type": "markdown",
   "id": "8f46a6b9-9e94-42b8-a0b9-5b4269477171",
   "metadata": {},
   "source": [
    "Convolution with a filter is a linear, shift-invariant (LSI) operation.\n",
    "This means that the effect of each tap can be considered individually,\n",
    "and the sum of the resulting signals will be the output of the filter.\n",
    "\n",
    "Consider the signal x[t] and filter h[t] below:"
   ]
  },
  {
   "cell_type": "markdown",
   "id": "ae72e030-404d-4e9e-af57-a4f34becfabc",
   "metadata": {},
   "source": [
    "```\n",
    "x = 1 2 3 4 5\n",
    "h = 1 2 3\n",
    "\n",
    "h            1  2  3\n",
    "=============================\n",
    "       1  2  3  4  5\n",
    "          2  4  6  8 10\n",
    "             3  6  9  12  15\n",
    "=============================\n",
    "y      1  4  10  16  22  22  15\n",
    "```"
   ]
  },
  {
   "cell_type": "markdown",
   "id": "ae1f819f-2726-4438-9867-05da24d6671c",
   "metadata": {},
   "source": [
    "**Explain where the values [2 4 6 8 10] came from.**"
   ]
  },
  {
   "cell_type": "markdown",
   "id": "fb24bd4e-ef54-4a25-ae4a-0b9cdc263260",
   "metadata": {},
   "source": [
    "All values of x ae multiplied by h[1] = 2"
   ]
  },
  {
   "cell_type": "markdown",
   "id": "569627d0-725c-4355-af84-0da416a0aa54",
   "metadata": {},
   "source": [
    "**How would the first row of question marks be computed?**"
   ]
  },
  {
   "cell_type": "markdown",
   "id": "94007373-9b5e-49af-ac51-5e578b8e6461",
   "metadata": {},
   "source": [
    "THe first row of question marks would be computed by multiplying x[t] by 1."
   ]
  },
  {
   "cell_type": "markdown",
   "id": "2e178507-26b1-4acd-97b4-44b959b768f3",
   "metadata": {},
   "source": [
    "**How would the second row of question marks be computed?**"
   ]
  },
  {
   "cell_type": "markdown",
   "id": "b830d1c5-4329-4847-b69b-077f0c884fa0",
   "metadata": {},
   "source": [
    "THe second row of question marks would be computed by multiplying x[t] by 3."
   ]
  },
  {
   "cell_type": "markdown",
   "id": "342dccfe-1998-4575-8827-5474d7de889f",
   "metadata": {},
   "source": [
    "**How would the third row of question marks be computed?**"
   ]
  },
  {
   "cell_type": "markdown",
   "id": "793c99b8-f8ce-4b8c-b220-78f53fb22a81",
   "metadata": {},
   "source": [
    "The third row of question marks would be computed by adding together each row."
   ]
  },
  {
   "cell_type": "markdown",
   "id": "99a87461-004f-4472-b7c8-061e85a4462d",
   "metadata": {},
   "source": [
    "**Go ahead and replace the question marks in the above diagram with their values.**"
   ]
  }
 ],
 "metadata": {
  "kernelspec": {
   "display_name": "Python 3 (ipykernel)",
   "language": "python",
   "name": "python3"
  },
  "language_info": {
   "codemirror_mode": {
    "name": "ipython",
    "version": 3
   },
   "file_extension": ".py",
   "mimetype": "text/x-python",
   "name": "python",
   "nbconvert_exporter": "python",
   "pygments_lexer": "ipython3",
   "version": "3.10.13"
  }
 },
 "nbformat": 4,
 "nbformat_minor": 5
}
